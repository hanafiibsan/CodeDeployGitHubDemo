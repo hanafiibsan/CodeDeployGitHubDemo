{
  "nbformat": 4,
  "nbformat_minor": 0,
  "metadata": {
    "accelerator": "GPU",
    "colab": {
      "provenance": []
    },
    "kernelspec": {
      "display_name": "Python 3",
      "name": "python3"
    },
    "language_info": {
      "name": "python"
    }
  },
  "cells": [
    {
      "cell_type": "code",
      "metadata": {
        "id": "ZaQWuxkYMig5"
      },
      "source": [
        "Nama            : Muhammad Hanafi Ibsan\n",
        "Email Dicoding  : hanafi2048@gmail.com\n",
        "Asal Kota       : Medan"
      ],
      "execution_count": null,
      "outputs": []
    },
    {
      "cell_type": "code",
      "metadata": {
        "id": "JcDJ8J1hzSPc"
      },
      "source": [
        "import tensorflow as tf\n",
        "from tensorflow.keras.optimizers import SGD\n",
        "from tensorflow.keras.preprocessing.image import ImageDataGenerator"
      ],
      "execution_count": null,
      "outputs": []
    },
    {
      "cell_type": "code",
      "metadata": {
        "colab": {
          "base_uri": "https://localhost:8080/"
        },
        "id": "hHMP38ZUzfWt",
        "outputId": "6f9fd65c-d613-48bc-b6d5-3a88731dced7"
      },
      "source": [
        "! pip install kaggle"
      ],
      "execution_count": null,
      "outputs": [
        {
          "output_type": "stream",
          "text": [
            "Requirement already satisfied: kaggle in /usr/local/lib/python3.7/dist-packages (1.5.12)\n",
            "Requirement already satisfied: tqdm in /usr/local/lib/python3.7/dist-packages (from kaggle) (4.41.1)\n",
            "Requirement already satisfied: certifi in /usr/local/lib/python3.7/dist-packages (from kaggle) (2021.5.30)\n",
            "Requirement already satisfied: six>=1.10 in /usr/local/lib/python3.7/dist-packages (from kaggle) (1.15.0)\n",
            "Requirement already satisfied: python-dateutil in /usr/local/lib/python3.7/dist-packages (from kaggle) (2.8.1)\n",
            "Requirement already satisfied: urllib3 in /usr/local/lib/python3.7/dist-packages (from kaggle) (1.24.3)\n",
            "Requirement already satisfied: requests in /usr/local/lib/python3.7/dist-packages (from kaggle) (2.23.0)\n",
            "Requirement already satisfied: python-slugify in /usr/local/lib/python3.7/dist-packages (from kaggle) (5.0.2)\n",
            "Requirement already satisfied: text-unidecode>=1.3 in /usr/local/lib/python3.7/dist-packages (from python-slugify->kaggle) (1.3)\n",
            "Requirement already satisfied: chardet<4,>=3.0.2 in /usr/local/lib/python3.7/dist-packages (from requests->kaggle) (3.0.4)\n",
            "Requirement already satisfied: idna<3,>=2.5 in /usr/local/lib/python3.7/dist-packages (from requests->kaggle) (2.10)\n"
          ],
          "name": "stdout"
        }
      ]
    },
    {
      "cell_type": "code",
      "metadata": {
        "id": "edJM5b5UzsLO"
      },
      "source": [
        "! mkdir ~/.kaggle"
      ],
      "execution_count": null,
      "outputs": []
    },
    {
      "cell_type": "code",
      "metadata": {
        "id": "LKlFbxTJzvDZ"
      },
      "source": [
        "! cp kaggle.json ~/.kaggle/"
      ],
      "execution_count": null,
      "outputs": []
    },
    {
      "cell_type": "code",
      "metadata": {
        "id": "R5JufUe3zxSc"
      },
      "source": [
        "! chmod 600 ~/.kaggle/kaggle.json"
      ],
      "execution_count": null,
      "outputs": []
    },
    {
      "cell_type": "code",
      "metadata": {
        "colab": {
          "base_uri": "https://localhost:8080/"
        },
        "id": "zZ2mROruz18S",
        "outputId": "e67bf116-0b18-491a-a444-5881c83c90af"
      },
      "source": [
        "! kaggle datasets download -d chrisfilo/fruit-recognition"
      ],
      "execution_count": null,
      "outputs": [
        {
          "output_type": "stream",
          "text": [
            "Downloading fruit-recognition.zip to /content\n",
            "100% 7.91G/7.92G [03:07<00:00, 44.4MB/s]\n",
            "100% 7.92G/7.92G [03:07<00:00, 45.4MB/s]\n"
          ],
          "name": "stdout"
        }
      ]
    },
    {
      "cell_type": "code",
      "metadata": {
        "id": "HsfuUwyF0A33"
      },
      "source": [
        "cp '/content/fruit-recognition.zip' '/tmp'"
      ],
      "execution_count": null,
      "outputs": []
    },
    {
      "cell_type": "code",
      "metadata": {
        "id": "l0wD45t-0QiN"
      },
      "source": [
        "import os\n",
        "import zipfile\n",
        "local_zip = '/tmp/fruit-recognition.zip'\n",
        "zip_ref = zipfile.ZipFile(local_zip, 'r')\n",
        "zip_ref.extractall('/tmp')\n",
        "zip_ref.close()"
      ],
      "execution_count": null,
      "outputs": []
    },
    {
      "cell_type": "code",
      "metadata": {
        "colab": {
          "base_uri": "https://localhost:8080/"
        },
        "id": "gqKUp2fvDxCh",
        "outputId": "7bd5ff19-ba41-436a-ee0f-705729592b61"
      },
      "source": [
        "os.listdir('/tmp/')"
      ],
      "execution_count": null,
      "outputs": [
        {
          "output_type": "execute_result",
          "data": {
            "text/plain": [
              "['Banana',\n",
              " 'initgoogle_syslog_dir.0',\n",
              " 'dap_multiplexer.2595d616be48.root.log.INFO.20210728-145216.54',\n",
              " 'dap_multiplexer.INFO',\n",
              " 'debugger_2eeht636gf',\n",
              " 'fruit-recognition.zip',\n",
              " 'Apple',\n",
              " 'Orange',\n",
              " 'tmplascwq45.py',\n",
              " '__pycache__']"
            ]
          },
          "metadata": {
            "tags": []
          },
          "execution_count": 28
        }
      ]
    },
    {
      "cell_type": "code",
      "metadata": {
        "id": "BfFrShvWD9wx"
      },
      "source": [
        "# import splitfolders\n",
        "base_dir = '/tmp'\n",
        "#splitfolders.ratio(base_dir, output = '/tmp/COVID-19_Radiography_Dataset', seed = 1337, ratio = (.8, .2))"
      ],
      "execution_count": null,
      "outputs": []
    },
    {
      "cell_type": "code",
      "metadata": {
        "id": "fUf3YrqDUD7Z"
      },
      "source": [
        "import shutil\n",
        "\n",
        "shutil.rmtree('/tmp/Pitaya')\n",
        "shutil.rmtree('/tmp/Pear')\n",
        "shutil.rmtree('/tmp/Tomatoes')\n",
        "shutil.rmtree('/tmp/muskmelon')\n",
        "shutil.rmtree('/tmp/Persimmon')\n",
        "shutil.rmtree('/tmp/Pomegranate')\n",
        "shutil.rmtree('/tmp/Peach')\n",
        "shutil.rmtree('/tmp/Mango')\n",
        "shutil.rmtree('/tmp/Kiwi')\n",
        "shutil.rmtree('/tmp/Guava')\n",
        "shutil.rmtree('/tmp/Carambola')\n",
        "shutil.rmtree('/tmp/Plum')\n"
      ],
      "execution_count": null,
      "outputs": []
    },
    {
      "cell_type": "code",
      "metadata": {
        "id": "537Bzm8sSIra"
      },
      "source": [
        "orange_dir = os.path.join (base_dir, 'Orange')\n",
        "apple_dir = os.path.join (base_dir, 'Apple')\n",
        "banana_dir = os.path.join (base_dir, 'Banana')\n"
      ],
      "execution_count": null,
      "outputs": []
    },
    {
      "cell_type": "code",
      "metadata": {
        "id": "0IxqRxKVFCDO"
      },
      "source": [
        "train_dir = os.path.join('/tmp')\n",
        "validation_dir = os.path.join('/tmp')"
      ],
      "execution_count": null,
      "outputs": []
    },
    {
      "cell_type": "code",
      "metadata": {
        "id": "0BtDsrlgR1_O"
      },
      "source": [
        "import sklearn\n",
        "from sklearn.model_selection import train_test_split"
      ],
      "execution_count": null,
      "outputs": []
    },
    {
      "cell_type": "code",
      "metadata": {
        "id": "zTZW4DfyR_im"
      },
      "source": [
        "train_orange_dir, validation_orange_dir = train_test_split (os.listdir (orange_dir), test_size = 0.2)\n",
        "train_apple_dir, validation_apple_dir = train_test_split (os.listdir (apple_dir), test_size = 0.2)\n",
        "train_banana_dir, validation_banana_dir = train_test_split (os.listdir (banana_dir), test_size = 0.2)\n"
      ],
      "execution_count": null,
      "outputs": []
    },
    {
      "cell_type": "code",
      "metadata": {
        "id": "PYV8F1Z0VY8Z"
      },
      "source": [
        "train_orange = os.path.join (train_dir, 'Orange')\n",
        "train_apple = os.path.join (train_dir, 'Apple')\n",
        "train_banana = os.path.join (train_dir, 'Banana')\n",
        "\n",
        "validation_orange = os.path.join (validation_dir, 'Orange')\n",
        "validation_apple = os.path.join (validation_dir, 'Apple')\n",
        "validation_banana = os.path.join (validation_dir, 'Banana')\n"
      ],
      "execution_count": null,
      "outputs": []
    },
    {
      "cell_type": "code",
      "metadata": {
        "id": "nDxStenjXT54"
      },
      "source": [
        "class myCallback(tf.keras.callbacks.Callback):\n",
        "  def on_epoch_end(self, epoch, logs={}):\n",
        "    if(logs.get('accuracy')>0.95):\n",
        "      print(\"\\nReached 93% accuracy so cancelling training!\")\n",
        "      self.model.stop_training = True\n",
        "\n",
        "callbacks = myCallback()"
      ],
      "execution_count": null,
      "outputs": []
    },
    {
      "cell_type": "code",
      "metadata": {
        "id": "WYhS3-G2XY0N"
      },
      "source": [
        "train_datagen = ImageDataGenerator(\n",
        "                    rescale=1./255,\n",
        "                    rotation_range=20,\n",
        "                    #horizontal_flip=True,\n",
        "                    #zoom_range=0.2,\n",
        "                    #shear_range=0.2,\n",
        "                    fill_mode = 'nearest')\n",
        "                    #validation_split=0.2) # set validation split\n",
        "\n",
        "test_datagen = ImageDataGenerator(\n",
        "                    rescale=1./255,\n",
        "                    rotation_range=20,\n",
        "                    #horizontal_flip=True,\n",
        "                    #zoom_range=0.2,\n",
        "                    #shear_range=0.2,\n",
        "                    fill_mode = 'nearest')"
      ],
      "execution_count": null,
      "outputs": []
    },
    {
      "cell_type": "code",
      "metadata": {
        "colab": {
          "base_uri": "https://localhost:8080/"
        },
        "id": "6SsAeuyoXZ4z",
        "outputId": "c49d7219-5ebd-4766-a18b-a49fffe01021"
      },
      "source": [
        "train_generator = train_datagen.flow_from_directory(\n",
        "        train_dir,  # direktori data latih\n",
        "        target_size=(150, 150),  # mengubah resolusi seluruh gambar menjadi 150x150 piksel\n",
        "        batch_size=16,\n",
        "        class_mode='categorical')\n",
        "        #subset='training' # set as training data\n",
        "\n",
        "validation_generator = test_datagen.flow_from_directory(\n",
        "        validation_dir, # direktori data validasi\n",
        "        target_size=(150, 150), # mengubah resolusi seluruh gambar menjadi 150x150 piksel\n",
        "        batch_size=16,\n",
        "        class_mode='categorical')\n",
        "        #subset='validation') # set as validation data"
      ],
      "execution_count": null,
      "outputs": [
        {
          "output_type": "stream",
          "text": [
            "Found 17224 images belonging to 5 classes.\n",
            "Found 17224 images belonging to 5 classes.\n"
          ],
          "name": "stdout"
        }
      ]
    },
    {
      "cell_type": "code",
      "metadata": {
        "id": "9FFQsnSNmOIJ"
      },
      "source": [
        "from tensorflow.keras.layers import Input\n",
        "from tensorflow.keras.applications import ResNet50\n",
        "from tensorflow.keras.applications import ResNet152V2\n",
        "model = tf.keras.models.Sequential([\n",
        "    ResNet152V2(weights=\"imagenet\", include_top=False, input_tensor=Input(shape=(150, 150, 3))),\n",
        "    tf.keras.layers.Dropout(0.4),\n",
        "    tf.keras.layers.Flatten(),\n",
        "    tf.keras.layers.Dense(512, activation='relu'),\n",
        "    tf.keras.layers.Dense(256, activation='relu'),\n",
        "    tf.keras.layers.Dense(5, activation='softmax')\n",
        "])\n",
        "model.layers[0].trainable = False"
      ],
      "execution_count": null,
      "outputs": []
    },
    {
      "cell_type": "code",
      "metadata": {
        "id": "yAbNTm5qGFol"
      },
      "source": [
        "\"\"\"\n",
        "model = tf.keras.models.Sequential([\n",
        "    tf.keras.layers.Conv2D(32, (3,3), activation='relu', input_shape=(150, 150, 3)),\n",
        "    tf.keras.layers.MaxPooling2D(2, 2),\n",
        "    tf.keras.layers.Conv2D(64, (3,3), activation='relu'),\n",
        "    tf.keras.layers.MaxPooling2D(2,2),\n",
        "    tf.keras.layers.Conv2D(128, (3,3), activation='relu'),\n",
        "    tf.keras.layers.MaxPooling2D(2,2),\n",
        "    tf.keras.layers.Conv2D(256, (3,3), activation='relu'),\n",
        "    tf.keras.layers.MaxPooling2D(2,2),\n",
        "    tf.keras.layers.Dropout(0.2),\n",
        "    tf.keras.layers.Flatten(),\n",
        "    tf.keras.layers.Dense(512, activation='relu'),\n",
        "    tf.keras.layers.Dense(4, activation='softmax')\n",
        "])\n",
        "\"\"\""
      ],
      "execution_count": null,
      "outputs": []
    },
    {
      "cell_type": "code",
      "metadata": {
        "id": "_Fuqk0wUXail"
      },
      "source": [
        "opt = tf.keras.optimizers.Adam(learning_rate=0.00001, decay=0.01)\n",
        "model.compile(loss='categorical_crossentropy',  metrics=['accuracy'], optimizer=opt)"
      ],
      "execution_count": null,
      "outputs": []
    },
    {
      "cell_type": "code",
      "metadata": {
        "colab": {
          "base_uri": "https://localhost:8080/"
        },
        "id": "3TfX9GQ9X-qQ",
        "outputId": "19a2752a-85a8-4f65-e2a3-fe8707519b7f"
      },
      "source": [
        "model.summary()"
      ],
      "execution_count": null,
      "outputs": [
        {
          "output_type": "stream",
          "text": [
            "Model: \"sequential_6\"\n",
            "_________________________________________________________________\n",
            "Layer (type)                 Output Shape              Param #   \n",
            "=================================================================\n",
            "resnet152v2 (Functional)     (None, 5, 5, 2048)        58331648  \n",
            "_________________________________________________________________\n",
            "dropout_6 (Dropout)          (None, 5, 5, 2048)        0         \n",
            "_________________________________________________________________\n",
            "flatten_6 (Flatten)          (None, 51200)             0         \n",
            "_________________________________________________________________\n",
            "dense_17 (Dense)             (None, 512)               26214912  \n",
            "_________________________________________________________________\n",
            "dense_18 (Dense)             (None, 256)               131328    \n",
            "_________________________________________________________________\n",
            "dense_19 (Dense)             (None, 5)                 1285      \n",
            "=================================================================\n",
            "Total params: 84,679,173\n",
            "Trainable params: 26,347,525\n",
            "Non-trainable params: 58,331,648\n",
            "_________________________________________________________________\n"
          ],
          "name": "stdout"
        }
      ]
    },
    {
      "cell_type": "code",
      "metadata": {
        "colab": {
          "base_uri": "https://localhost:8080/"
        },
        "id": "pYhFfzXHX-Uv",
        "outputId": "a38f2ffb-909d-4eb1-e994-e1e1d1092234"
      },
      "source": [
        "history = model.fit(\n",
        "      train_generator,\n",
        "      #steps_per_epoch=35,\n",
        "      epochs=20,\n",
        "      #epochs=epochs,\n",
        "      validation_data=validation_generator,\n",
        "      validation_steps=5,\n",
        "      verbose=2,\n",
        "      callbacks=[callbacks])"
      ],
      "execution_count": null,
      "outputs": [
        {
          "output_type": "stream",
          "text": [
            "Epoch 1/20\n",
            "1077/1077 - 249s - loss: 0.1767 - accuracy: 0.9473 - val_loss: 0.0162 - val_accuracy: 0.9875\n",
            "Epoch 2/20\n",
            "1077/1077 - 229s - loss: 0.0744 - accuracy: 0.9746 - val_loss: 0.0340 - val_accuracy: 0.9750\n",
            "\n",
            "Reached 93% accuracy so cancelling training!\n"
          ],
          "name": "stdout"
        }
      ]
    },
    {
      "cell_type": "code",
      "metadata": {
        "id": "qcSxlLcAX-Kt",
        "colab": {
          "base_uri": "https://localhost:8080/",
          "height": 590
        },
        "outputId": "c92ad3e3-18c9-471c-e3ad-866de47857d2"
      },
      "source": [
        "import matplotlib.pyplot as plt\n",
        "%matplotlib inline\n",
        "# list all data in history\n",
        "print(history.history.keys())\n",
        "# summarize history for accuracy\n",
        "plt.plot(history.history['accuracy'])\n",
        "plt.title('model accuracy')\n",
        "plt.ylabel('accuracy')\n",
        "plt.xlabel('epoch')\n",
        "plt.legend(['train'], loc='upper left')\n",
        "plt.show()\n",
        "# summarize history for loss\n",
        "plt.plot(history.history['loss'])\n",
        "plt.title('model loss')\n",
        "plt.ylabel('loss')\n",
        "plt.xlabel('epoch')\n",
        "plt.legend(['train'], loc='upper left')\n",
        "plt.show()"
      ],
      "execution_count": null,
      "outputs": [
        {
          "output_type": "stream",
          "text": [
            "dict_keys(['loss', 'accuracy', 'val_loss', 'val_accuracy'])\n"
          ],
          "name": "stdout"
        },
        {
          "output_type": "display_data",
          "data": {
            "image/png": "[encoded data removed]",
            "text/plain": [
              "<Figure size 432x288 with 1 Axes>"
            ]
          },
          "metadata": {
            "tags": [],
            "needs_background": "light"
          }
        },
        {
          "output_type": "display_data",
          "data": {
            "image/png": "[encoded data removed]",
            "text/plain": [
              "<Figure size 432x288 with 1 Axes>"
            ]
          },
          "metadata": {
            "tags": [],
            "needs_background": "light"
          }
        }
      ]
    },
    {
      "cell_type": "code",
      "metadata": {
        "colab": {
          "base_uri": "https://localhost:8080/"
        },
        "id": "owtmV2GmLfWq",
        "outputId": "eaac928a-2b61-4237-cb6d-314d9805f204"
      },
      "source": [
        "# Konversi model.\n",
        "converter = tf.lite.TFLiteConverter.from_keras_model(model)\n",
        "tflite_model = converter.convert()"
      ],
      "execution_count": null,
      "outputs": [
        {
          "output_type": "stream",
          "text": [
            "/usr/local/lib/python3.7/dist-packages/tensorflow/python/keras/utils/generic_utils.py:497: CustomMaskWarning: Custom mask layers require a config and must override get_config. When loading, the custom mask layer must be passed to the custom_objects argument.\n",
            "  category=CustomMaskWarning)\n"
          ],
          "name": "stderr"
        },
        {
          "output_type": "stream",
          "text": [
            "INFO:tensorflow:Assets written to: /tmp/tmpqjunist7/assets\n"
          ],
          "name": "stdout"
        }
      ]
    },
    {
      "cell_type": "code",
      "metadata": {
        "id": "CGyWGXWhLj-E"
      },
      "source": [
        "# Simpan model dalam format TF-Lite\n",
        "with tf.io.gfile.GFile('model.tflite', 'wb') as f:\n",
        "  f.write(tflite_model)"
      ],
      "execution_count": null,
      "outputs": []
    }
  ]
}